{
 "cells": [
  {
   "cell_type": "code",
   "execution_count": 1,
   "metadata": {
    "papermill": {
     "duration": 0.032452,
     "end_time": "2020-06-18T18:33:37.469495",
     "exception": false,
     "start_time": "2020-06-18T18:33:37.437043",
     "status": "completed"
    },
    "tags": []
   },
   "outputs": [],
   "source": [
    "%load_ext autoreload\n",
    "%autoreload 2"
   ]
  },
  {
   "cell_type": "code",
   "execution_count": 2,
   "metadata": {
    "papermill": {
     "duration": 7.556185,
     "end_time": "2020-06-18T18:33:45.030357",
     "exception": false,
     "start_time": "2020-06-18T18:33:37.474172",
     "status": "completed"
    },
    "tags": []
   },
   "outputs": [],
   "source": [
    "%matplotlib inline\n",
    "import os\n",
    "import subprocess\n",
    "import numpy as np\n",
    "import xarray as xr\n",
    "\n",
    "import matplotlib.pyplot as plt\n",
    "\n",
    "import urllib\n",
    "\n",
    "import util\n",
    "\n",
    "if 'TMPDIR' in os.environ:\n",
    "    TMPDIR = os.environ['TMPDIR']\n",
    "else:\n",
    "    raise ValueError('TMPDIR not set')"
   ]
  },
  {
   "cell_type": "code",
   "execution_count": 3,
   "metadata": {
    "papermill": {
     "duration": 0.066736,
     "end_time": "2020-06-18T18:33:45.113551",
     "exception": false,
     "start_time": "2020-06-18T18:33:45.046815",
     "status": "completed"
    },
    "tags": [
     "parameters"
    ]
   },
   "outputs": [],
   "source": [
    "product = 'etopo1'"
   ]
  },
  {
   "cell_type": "code",
   "execution_count": 4,
   "metadata": {
    "papermill": {
     "duration": 0.065014,
     "end_time": "2020-06-18T18:33:45.184020",
     "exception": false,
     "start_time": "2020-06-18T18:33:45.119006",
     "status": "completed"
    },
    "tags": [
     "injected-parameters"
    ]
   },
   "outputs": [],
   "source": [
    "# Parameters\n",
    "product = \"etopo1\"\n"
   ]
  },
  {
   "cell_type": "code",
   "execution_count": 5,
   "metadata": {
    "papermill": {
     "duration": 0.06913,
     "end_time": "2020-06-18T18:33:45.258515",
     "exception": false,
     "start_time": "2020-06-18T18:33:45.189385",
     "status": "completed"
    },
    "tags": []
   },
   "outputs": [
    {
     "data": {
      "text/plain": [
       "'/glade/work/mclong/etopo1/ETOPO1_Ice_c_gmt4.nc'"
      ]
     },
     "execution_count": 5,
     "metadata": {},
     "output_type": "execute_result"
    }
   ],
   "source": [
    "file_src_data = util.file_name_topo(product)\n",
    "file_src_data"
   ]
  },
  {
   "cell_type": "code",
   "execution_count": 6,
   "metadata": {
    "papermill": {
     "duration": 0.063342,
     "end_time": "2020-06-18T18:33:45.326471",
     "exception": false,
     "start_time": "2020-06-18T18:33:45.263129",
     "status": "completed"
    },
    "tags": []
   },
   "outputs": [],
   "source": [
    "if not os.path.exists(file_src_data):\n",
    "    if product == 'etopo1':    \n",
    "        print('downloading etopo1')\n",
    "        url = 'https://www.ngdc.noaa.gov/mgg/global/relief/ETOPO1/data/ice_surface/cell_registered/netcdf'\n",
    "        f_remote = f'{url}/ETOPO1_Ice_c_gmt4.grd.gz'        \n",
    "        f_local = f'{TMPDIR}/ETOPO1_Ice_c_gmt4.grd'        \n",
    "        urllib.request.urlretrieve(f_remote, f_local+'.gz')\n",
    "        subprocess.run(['gunzip', '-f', f_local+'.gz'], check=True)\n",
    "        subprocess.run(['mv', f_local, file_src_data])                     "
   ]
  },
  {
   "cell_type": "code",
   "execution_count": 7,
   "metadata": {
    "papermill": {
     "duration": 29.793718,
     "end_time": "2020-06-18T18:34:15.125249",
     "exception": false,
     "start_time": "2020-06-18T18:33:45.331531",
     "status": "completed"
    },
    "tags": []
   },
   "outputs": [
    {
     "name": "stdout",
     "output_type": "stream",
     "text": [
      "xarray.Dataset {\n",
      "dimensions:\n",
      "\tgrid_rank = 2 ;\n",
      "\tgrid_size = 233280000 ;\n",
      "\tgrid_corners = 4 ;\n",
      "\n",
      "variables:\n",
      "\tint32 grid_dims(grid_rank) ;\n",
      "\tfloat64 grid_center_lat(grid_size) ;\n",
      "\t\tgrid_center_lat:units = degrees ;\n",
      "\tfloat64 grid_center_lon(grid_size) ;\n",
      "\t\tgrid_center_lon:units = degrees ;\n",
      "\tfloat64 grid_corner_lat(grid_size, grid_corners) ;\n",
      "\t\tgrid_corner_lat:units = degrees ;\n",
      "\tfloat64 grid_corner_lon(grid_size, grid_corners) ;\n",
      "\t\tgrid_corner_lon:units = degrees ;\n",
      "\tint32 grid_imask(grid_size) ;\n",
      "\t\tgrid_imask:units = unitless ;\n",
      "\tfloat64 grid_area(grid_size) ;\n",
      "\t\tgrid_area:units = radians^2 ;\n",
      "\t\tgrid_area:long_name = area weights ;\n",
      "\n",
      "// global attributes:\n",
      "\t:title = 0.016666666666666666 x 0.016666666666666666 (lat x lon) grid ;\n",
      "\t:created_by = latlon_to_scrip ;\n",
      "\t:date_created = 2021-10-27 14:52:24.300291 ;\n",
      "\t:conventions = SCRIP ;\n",
      "}CPU times: user 2.07 s, sys: 5.48 s, total: 7.54 s\n",
      "Wall time: 21.7 s\n"
     ]
    },
    {
     "data": {
      "image/png": "[encoded data removed]",
      "text/plain": [
       "<Figure size 432x288 with 2 Axes>"
      ]
     },
     "metadata": {
      "needs_background": "light"
     },
     "output_type": "display_data"
    }
   ],
   "source": [
    "%%time\n",
    "scrip_grid_file = util.file_name_grid(product)\n",
    "\n",
    "if not os.path.exists(scrip_grid_file): \n",
    "    \n",
    "    if product == 'etopo1':        \n",
    "        # get/write scrip grid\n",
    "        dso = util.latlon_to_scrip(\n",
    "            nx=21600, \n",
    "            ny=10800, \n",
    "            lon0=-180., \n",
    "            file_out=scrip_grid_file\n",
    "        )\n",
    "else:\n",
    "    dso = xr.open_dataset(scrip_grid_file)\n",
    "\n",
    "    \n",
    "# check that this conforms to the grid of the original dataset\n",
    "ds = xr.open_dataset(file_src_data)\n",
    "grid_imask = xr.where(ds.z < 0, 1., 0.).values.astype(np.int32)\n",
    "plt.pcolormesh(grid_imask[::10, ::10])\n",
    "plt.colorbar()\n",
    "    \n",
    "# extract grid coordinates to make check below\n",
    "dims_grid = tuple(dso.grid_dims.values[::-1])\n",
    "ny, nx = dims_grid\n",
    "lat = dso.grid_center_lat.values.reshape(dims_grid)[:, 0]\n",
    "lon = dso.grid_center_lon.values.reshape(dims_grid)[0, :]\n",
    "\n",
    "np.testing.assert_allclose(lat, ds.y.values)\n",
    "np.testing.assert_allclose(lon, ds.x.values)    \n",
    "dso.info()"
   ]
  }
 ],
 "metadata": {
  "kernelspec": {
   "display_name": "Python [conda env:miniconda3-forcing-Fe-sedflux]",
   "language": "python",
   "name": "conda-env-miniconda3-forcing-Fe-sedflux-py"
  },
  "language_info": {
   "codemirror_mode": {
    "name": "ipython",
    "version": 3
   },
   "file_extension": ".py",
   "mimetype": "text/x-python",
   "name": "python",
   "nbconvert_exporter": "python",
   "pygments_lexer": "ipython3",
   "version": "3.7.10"
  },
  "papermill": {
   "duration": 41.489289,
   "end_time": "2020-06-18T18:34:16.718289",
   "environment_variables": {},
   "exception": null,
   "input_path": "_ensure_etopo_data.ipynb",
   "output_path": "_ensure_etopo_data.ipynb",
   "parameters": {
    "product": "etopo1"
   },
   "start_time": "2020-06-18T18:33:35.229000",
   "version": "2.1.0"
  }
 },
 "nbformat": 4,
 "nbformat_minor": 4
}
