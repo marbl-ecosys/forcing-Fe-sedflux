{
 "cells": [
  {
   "cell_type": "code",
   "execution_count": 1,
   "metadata": {
    "execution": {
     "iopub.execute_input": "2020-06-15T19:35:51.174145Z",
     "iopub.status.busy": "2020-06-15T19:35:51.173620Z",
     "iopub.status.idle": "2020-06-15T19:35:51.190383Z",
     "shell.execute_reply": "2020-06-15T19:35:51.189786Z"
    },
    "papermill": {
     "duration": 0.031051,
     "end_time": "2020-06-15T19:35:51.190505",
     "exception": false,
     "start_time": "2020-06-15T19:35:51.159454",
     "status": "completed"
    },
    "tags": []
   },
   "outputs": [],
   "source": [
    "%load_ext autoreload\n",
    "%autoreload 2"
   ]
  },
  {
   "cell_type": "code",
   "execution_count": 2,
   "metadata": {
    "execution": {
     "iopub.execute_input": "2020-06-15T19:35:51.215510Z",
     "iopub.status.busy": "2020-06-15T19:35:51.214782Z",
     "iopub.status.idle": "2020-06-15T19:35:53.056394Z",
     "shell.execute_reply": "2020-06-15T19:35:53.056677Z"
    },
    "papermill": {
     "duration": 1.857189,
     "end_time": "2020-06-15T19:35:53.056806",
     "exception": false,
     "start_time": "2020-06-15T19:35:51.199617",
     "status": "completed"
    },
    "tags": []
   },
   "outputs": [
    {
     "name": "stderr",
     "output_type": "stream",
     "text": [
      "Cannot write to data cache '/glade/p/cesmdata/cseg'. Will not be able to download remote data files. Use environment variable 'CESMDATAROOT' to specify another directory.\n"
     ]
    }
   ],
   "source": [
    "%matplotlib inline\n",
    "import os\n",
    "import subprocess\n",
    "import numpy as np\n",
    "import xarray as xr\n",
    "\n",
    "import matplotlib.pyplot as plt\n",
    "\n",
    "import urllib\n",
    "\n",
    "import util\n",
    "\n",
    "if 'TMPDIR' in os.environ:\n",
    "    TMPDIR = os.environ['TMPDIR']\n",
    "else:\n",
    "    raise ValueError('TMPDIR not set')"
   ]
  },
  {
   "cell_type": "code",
   "execution_count": 3,
   "metadata": {
    "execution": {
     "iopub.execute_input": "2020-06-15T19:35:53.068780Z",
     "iopub.status.busy": "2020-06-15T19:35:53.067854Z",
     "iopub.status.idle": "2020-06-15T19:35:53.108343Z",
     "shell.execute_reply": "2020-06-15T19:35:53.108624Z"
    },
    "papermill": {
     "duration": 0.047538,
     "end_time": "2020-06-15T19:35:53.108718",
     "exception": false,
     "start_time": "2020-06-15T19:35:53.061180",
     "status": "completed"
    },
    "tags": [
     "parameters"
    ]
   },
   "outputs": [],
   "source": [
    "product = 'etopo1'"
   ]
  },
  {
   "cell_type": "code",
   "execution_count": 4,
   "metadata": {
    "execution": {
     "iopub.execute_input": "2020-06-15T19:35:53.127400Z",
     "iopub.status.busy": "2020-06-15T19:35:53.126694Z",
     "iopub.status.idle": "2020-06-15T19:35:53.167580Z",
     "shell.execute_reply": "2020-06-15T19:35:53.167266Z"
    },
    "papermill": {
     "duration": 0.055112,
     "end_time": "2020-06-15T19:35:53.167649",
     "exception": false,
     "start_time": "2020-06-15T19:35:53.112537",
     "status": "completed"
    },
    "tags": [
     "injected-parameters"
    ]
   },
   "outputs": [],
   "source": [
    "# Parameters\n",
    "product = \"etopo1\"\n"
   ]
  },
  {
   "cell_type": "code",
   "execution_count": 5,
   "metadata": {
    "execution": {
     "iopub.execute_input": "2020-06-15T19:35:53.183732Z",
     "iopub.status.busy": "2020-06-15T19:35:53.183024Z",
     "iopub.status.idle": "2020-06-15T19:35:53.224060Z",
     "shell.execute_reply": "2020-06-15T19:35:53.224319Z"
    },
    "papermill": {
     "duration": 0.051778,
     "end_time": "2020-06-15T19:35:53.224401",
     "exception": false,
     "start_time": "2020-06-15T19:35:53.172623",
     "status": "completed"
    },
    "tags": []
   },
   "outputs": [
    {
     "data": {
      "text/plain": [
       "'/glade/work/mclong/etopo1/ETOPO1_Ice_c_gmt4.nc'"
      ]
     },
     "execution_count": 5,
     "metadata": {},
     "output_type": "execute_result"
    }
   ],
   "source": [
    "file_src_data = util.file_name_topo(product)\n",
    "file_src_data"
   ]
  },
  {
   "cell_type": "code",
   "execution_count": 6,
   "metadata": {
    "execution": {
     "iopub.execute_input": "2020-06-15T19:35:53.238473Z",
     "iopub.status.busy": "2020-06-15T19:35:53.237742Z",
     "iopub.status.idle": "2020-06-15T19:35:53.277303Z",
     "shell.execute_reply": "2020-06-15T19:35:53.277618Z"
    },
    "papermill": {
     "duration": 0.048272,
     "end_time": "2020-06-15T19:35:53.277709",
     "exception": false,
     "start_time": "2020-06-15T19:35:53.229437",
     "status": "completed"
    },
    "tags": []
   },
   "outputs": [],
   "source": [
    "if not os.path.exists(file_src_data):\n",
    "    if product == 'etopo1':    \n",
    "        print('downloading etopo1')\n",
    "        url = 'https://www.ngdc.noaa.gov/mgg/global/relief/ETOPO1/data/ice_surface/cell_registered/netcdf'\n",
    "        f_remote = f'{url}/ETOPO1_Ice_c_gmt4.grd.gz'        \n",
    "        f_local = f'{TMPDIR}/ETOPO1_Ice_c_gmt4.grd'        \n",
    "        urllib.request.urlretrieve(f_remote, f_local+'.gz')\n",
    "        subprocess.run(['gunzip', '-f', f_local+'.gz'], check=True)\n",
    "        subprocess.run(['mv', f_local, file_src_data])                     "
   ]
  },
  {
   "cell_type": "code",
   "execution_count": 7,
   "metadata": {
    "execution": {
     "iopub.execute_input": "2020-06-15T19:35:53.296349Z",
     "iopub.status.busy": "2020-06-15T19:35:53.295350Z",
     "iopub.status.idle": "2020-06-15T19:36:02.316922Z",
     "shell.execute_reply": "2020-06-15T19:36:02.317215Z"
    },
    "papermill": {
     "duration": 9.034472,
     "end_time": "2020-06-15T19:36:02.317324",
     "exception": false,
     "start_time": "2020-06-15T19:35:53.282852",
     "status": "completed"
    },
    "tags": []
   },
   "outputs": [
    {
     "name": "stdout",
     "output_type": "stream",
     "text": [
      "xarray.Dataset {\n",
      "dimensions:\n",
      "\tgrid_corners = 4 ;\n",
      "\tgrid_rank = 2 ;\n",
      "\tgrid_size = 233280000 ;\n",
      "\n",
      "variables:\n",
      "\tint32 grid_dims(grid_rank) ;\n",
      "\tfloat64 grid_center_lat(grid_size) ;\n",
      "\t\tgrid_center_lat:units = degrees ;\n",
      "\tfloat64 grid_center_lon(grid_size) ;\n",
      "\t\tgrid_center_lon:units = degrees ;\n",
      "\tfloat64 grid_corner_lat(grid_size, grid_corners) ;\n",
      "\t\tgrid_corner_lat:units = degrees ;\n",
      "\tfloat64 grid_corner_lon(grid_size, grid_corners) ;\n",
      "\t\tgrid_corner_lon:units = degrees ;\n",
      "\tint32 grid_imask(grid_size) ;\n",
      "\t\tgrid_imask:units = unitless ;\n",
      "\tfloat64 grid_area(grid_size) ;\n",
      "\t\tgrid_area:units = radians^2 ;\n",
      "\t\tgrid_area:long_name = area weights ;\n",
      "\n",
      "// global attributes:\n",
      "\t:title = 0.016666666666666666 x 0.016666666666666666 (lat x lon) grid ;\n",
      "\t:created_by = latlon_to_scrip ;\n",
      "\t:date_created = 2019-04-11 15:59:56.065491 ;\n",
      "\t:conventions = SCRIP ;\n",
      "}CPU times: user 2.07 s, sys: 5.77 s, total: 7.84 s\n",
      "Wall time: 8.17 s\n"
     ]
    },
    {
     "data": {
      "image/png": "[encoded data removed]",
      "text/plain": [
       "<Figure size 432x288 with 2 Axes>"
      ]
     },
     "metadata": {
      "needs_background": "light"
     },
     "output_type": "display_data"
    }
   ],
   "source": [
    "%%time\n",
    "scrip_grid_file = util.file_name_grid(product)\n",
    "\n",
    "if not os.path.exists(scrip_grid_file): \n",
    "    \n",
    "    if product == 'etopo1':        \n",
    "        # get/write scrip grid\n",
    "        dso = util.latlon_to_scrip(\n",
    "            nx=21600, \n",
    "            ny=10800, \n",
    "            lon0=-180., \n",
    "            file_out=scrip_grid_file\n",
    "        )\n",
    "else:\n",
    "    dso = xr.open_dataset(scrip_grid_file)\n",
    "\n",
    "    \n",
    "# check that this conforms to the grid of the original dataset\n",
    "ds = xr.open_dataset(file_src_data)\n",
    "grid_imask = xr.where(ds.z < 0, 1., 0.).values.astype(np.int32)\n",
    "plt.pcolormesh(grid_imask[::10, ::10])\n",
    "plt.colorbar()\n",
    "    \n",
    "# extract grid coordinates to make check below\n",
    "dims_grid = tuple(dso.grid_dims.values[::-1])\n",
    "ny, nx = dims_grid\n",
    "lat = dso.grid_center_lat.values.reshape(dims_grid)[:, 0]\n",
    "lon = dso.grid_center_lon.values.reshape(dims_grid)[0, :]\n",
    "\n",
    "np.testing.assert_allclose(lat, ds.y.values)\n",
    "np.testing.assert_allclose(lon, ds.x.values)    \n",
    "dso.info()"
   ]
  },
  {
   "cell_type": "code",
   "execution_count": null,
   "metadata": {
    "papermill": {
     "duration": 0.009499,
     "end_time": "2020-06-15T19:36:02.335929",
     "exception": false,
     "start_time": "2020-06-15T19:36:02.326430",
     "status": "completed"
    },
    "tags": []
   },
   "outputs": [],
   "source": []
  }
 ],
 "metadata": {
  "kernelspec": {
   "display_name": "Python [conda env:miniconda3-forcing-Fe-sedflux]",
   "language": "python",
   "name": "conda-env-miniconda3-forcing-Fe-sedflux-py"
  },
  "language_info": {
   "codemirror_mode": {
    "name": "ipython",
    "version": 3
   },
   "file_extension": ".py",
   "mimetype": "text/x-python",
   "name": "python",
   "nbconvert_exporter": "python",
   "pygments_lexer": "ipython3",
   "version": "3.7.6"
  },
  "papermill": {
   "duration": 13.085186,
   "end_time": "2020-06-15T19:36:03.589127",
   "environment_variables": {},
   "exception": null,
   "input_path": "_ensure_etopo_data.ipynb",
   "output_path": "_ensure_etopo_data.ipynb",
   "parameters": {
    "product": "etopo1"
   },
   "start_time": "2020-06-15T19:35:50.503941",
   "version": "2.1.0"
  }
 },
 "nbformat": 4,
 "nbformat_minor": 4
}