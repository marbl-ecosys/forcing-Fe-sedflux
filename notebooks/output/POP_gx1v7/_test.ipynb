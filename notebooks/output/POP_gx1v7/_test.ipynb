{
 "cells": [
  {
   "cell_type": "code",
   "execution_count": 1,
   "metadata": {
    "execution": {
     "iopub.execute_input": "2020-06-16T15:47:19.351934Z",
     "iopub.status.busy": "2020-06-16T15:47:19.351511Z",
     "iopub.status.idle": "2020-06-16T15:47:19.355301Z",
     "shell.execute_reply": "2020-06-16T15:47:19.354942Z"
    },
    "papermill": {
     "duration": 0.036064,
     "end_time": "2020-06-16T15:47:19.355385",
     "exception": false,
     "start_time": "2020-06-16T15:47:19.319321",
     "status": "completed"
    },
    "tags": []
   },
   "outputs": [
    {
     "name": "stdout",
     "output_type": "stream",
     "text": [
      "test\n"
     ]
    }
   ],
   "source": [
    "print('test')"
   ]
  },
  {
   "cell_type": "code",
   "execution_count": 2,
   "metadata": {
    "execution": {
     "iopub.execute_input": "2020-06-16T15:47:19.363656Z",
     "iopub.status.busy": "2020-06-16T15:47:19.363282Z",
     "iopub.status.idle": "2020-06-16T15:47:19.365607Z",
     "shell.execute_reply": "2020-06-16T15:47:19.365971Z"
    },
    "papermill": {
     "duration": 0.007522,
     "end_time": "2020-06-16T15:47:19.366063",
     "exception": false,
     "start_time": "2020-06-16T15:47:19.358541",
     "status": "completed"
    },
    "tags": [
     "parameters"
    ]
   },
   "outputs": [],
   "source": [
    "x = 5"
   ]
  },
  {
   "cell_type": "code",
   "execution_count": 3,
   "metadata": {
    "execution": {
     "iopub.execute_input": "2020-06-16T15:47:19.373394Z",
     "iopub.status.busy": "2020-06-16T15:47:19.373033Z",
     "iopub.status.idle": "2020-06-16T15:47:19.375305Z",
     "shell.execute_reply": "2020-06-16T15:47:19.375713Z"
    },
    "papermill": {
     "duration": 0.007287,
     "end_time": "2020-06-16T15:47:19.375805",
     "exception": false,
     "start_time": "2020-06-16T15:47:19.368518",
     "status": "completed"
    },
    "tags": [
     "injected-parameters"
    ]
   },
   "outputs": [],
   "source": [
    "# Parameters\n",
    "x = 500\n"
   ]
  },
  {
   "cell_type": "code",
   "execution_count": 4,
   "metadata": {
    "execution": {
     "iopub.execute_input": "2020-06-16T15:47:19.391078Z",
     "iopub.status.busy": "2020-06-16T15:47:19.390710Z",
     "iopub.status.idle": "2020-06-16T15:47:19.393251Z",
     "shell.execute_reply": "2020-06-16T15:47:19.393656Z"
    },
    "papermill": {
     "duration": 0.015436,
     "end_time": "2020-06-16T15:47:19.393750",
     "exception": false,
     "start_time": "2020-06-16T15:47:19.378314",
     "status": "completed"
    },
    "tags": []
   },
   "outputs": [
    {
     "name": "stdout",
     "output_type": "stream",
     "text": [
      "500\n"
     ]
    }
   ],
   "source": [
    "print(x)"
   ]
  }
 ],
 "metadata": {
  "kernelspec": {
   "display_name": "Python [conda env:miniconda3-forcing-Fe-sedflux]",
   "language": "python",
   "name": "conda-env-miniconda3-forcing-Fe-sedflux-py"
  },
  "language_info": {
   "codemirror_mode": {
    "name": "ipython",
    "version": 3
   },
   "file_extension": ".py",
   "mimetype": "text/x-python",
   "name": "python",
   "nbconvert_exporter": "python",
   "pygments_lexer": "ipython3",
   "version": "3.7.6"
  },
  "papermill": {
   "duration": 1.130399,
   "end_time": "2020-06-16T15:47:19.511555",
   "environment_variables": {},
   "exception": null,
   "input_path": "_test.ipynb",
   "output_path": "output/POP_gx1v7/_test.ipynb",
   "parameters": {
    "x": 500
   },
   "start_time": "2020-06-16T15:47:18.381156",
   "version": "2.1.0"
  }
 },
 "nbformat": 4,
 "nbformat_minor": 4
}