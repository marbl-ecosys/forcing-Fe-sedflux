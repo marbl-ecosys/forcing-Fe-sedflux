{
 "cells": [
  {
   "cell_type": "code",
   "execution_count": 1,
   "metadata": {
    "execution": {
     "iopub.execute_input": "2020-06-16T15:46:56.859110Z",
     "iopub.status.busy": "2020-06-16T15:46:56.858353Z",
     "iopub.status.idle": "2020-06-16T15:46:56.868938Z",
     "shell.execute_reply": "2020-06-16T15:46:56.876482Z"
    },
    "papermill": {
     "duration": 0.041252,
     "end_time": "2020-06-16T15:46:56.876623",
     "exception": false,
     "start_time": "2020-06-16T15:46:56.835371",
     "status": "completed"
    },
    "tags": []
   },
   "outputs": [
    {
     "name": "stdout",
     "output_type": "stream",
     "text": [
      "test\n"
     ]
    }
   ],
   "source": [
    "print('test')"
   ]
  },
  {
   "cell_type": "code",
   "execution_count": 2,
   "metadata": {
    "execution": {
     "iopub.execute_input": "2020-06-16T15:46:56.884701Z",
     "iopub.status.busy": "2020-06-16T15:46:56.884250Z",
     "iopub.status.idle": "2020-06-16T15:46:56.885915Z",
     "shell.execute_reply": "2020-06-16T15:46:56.886205Z"
    },
    "papermill": {
     "duration": 0.006645,
     "end_time": "2020-06-16T15:46:56.886288",
     "exception": false,
     "start_time": "2020-06-16T15:46:56.879643",
     "status": "completed"
    },
    "tags": [
     "parameters"
    ]
   },
   "outputs": [],
   "source": [
    "x = 5"
   ]
  },
  {
   "cell_type": "code",
   "execution_count": 3,
   "metadata": {
    "execution": {
     "iopub.execute_input": "2020-06-16T15:46:56.893164Z",
     "iopub.status.busy": "2020-06-16T15:46:56.892809Z",
     "iopub.status.idle": "2020-06-16T15:46:56.895070Z",
     "shell.execute_reply": "2020-06-16T15:46:56.895422Z"
    },
    "papermill": {
     "duration": 0.00689,
     "end_time": "2020-06-16T15:46:56.895510",
     "exception": false,
     "start_time": "2020-06-16T15:46:56.888620",
     "status": "completed"
    },
    "tags": [
     "injected-parameters"
    ]
   },
   "outputs": [],
   "source": [
    "# Parameters\n",
    "x = 500\n"
   ]
  },
  {
   "cell_type": "code",
   "execution_count": 4,
   "metadata": {
    "execution": {
     "iopub.execute_input": "2020-06-16T15:46:56.902571Z",
     "iopub.status.busy": "2020-06-16T15:46:56.902218Z",
     "iopub.status.idle": "2020-06-16T15:46:56.904665Z",
     "shell.execute_reply": "2020-06-16T15:46:56.905020Z"
    },
    "papermill": {
     "duration": 0.007221,
     "end_time": "2020-06-16T15:46:56.905098",
     "exception": false,
     "start_time": "2020-06-16T15:46:56.897877",
     "status": "completed"
    },
    "tags": []
   },
   "outputs": [
    {
     "name": "stdout",
     "output_type": "stream",
     "text": [
      "500\n"
     ]
    }
   ],
   "source": [
    "print(x)"
   ]
  }
 ],
 "metadata": {
  "kernelspec": {
   "display_name": "Python [conda env:miniconda3-forcing-Fe-sedflux]",
   "language": "python",
   "name": "conda-env-miniconda3-forcing-Fe-sedflux-py"
  },
  "language_info": {
   "codemirror_mode": {
    "name": "ipython",
    "version": 3
   },
   "file_extension": ".py",
   "mimetype": "text/x-python",
   "name": "python",
   "nbconvert_exporter": "python",
   "pygments_lexer": "ipython3",
   "version": "3.7.6"
  },
  "papermill": {
   "duration": 1.078184,
   "end_time": "2020-06-16T15:46:57.041071",
   "environment_variables": {},
   "exception": null,
   "input_path": "test.ipynb",
   "output_path": "output/POP_gx1v7/test.ipynb",
   "parameters": {
    "x": 500
   },
   "start_time": "2020-06-16T15:46:55.962887",
   "version": "2.1.0"
  }
 },
 "nbformat": 4,
 "nbformat_minor": 4
}