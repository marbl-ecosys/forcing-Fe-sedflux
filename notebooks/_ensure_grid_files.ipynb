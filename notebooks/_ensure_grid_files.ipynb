{
 "cells": [
  {
   "cell_type": "code",
   "execution_count": 1,
   "metadata": {
    "execution": {
     "iopub.execute_input": "2020-06-15T19:36:04.779446Z",
     "iopub.status.busy": "2020-06-15T19:36:04.778711Z",
     "iopub.status.idle": "2020-06-15T19:36:06.587354Z",
     "shell.execute_reply": "2020-06-15T19:36:06.586673Z"
    },
    "papermill": {
     "duration": 1.829638,
     "end_time": "2020-06-15T19:36:06.587459",
     "exception": false,
     "start_time": "2020-06-15T19:36:04.757821",
     "status": "completed"
    },
    "tags": []
   },
   "outputs": [
    {
     "name": "stderr",
     "output_type": "stream",
     "text": [
      "Cannot write to data cache '/glade/p/cesmdata/cseg'. Will not be able to download remote data files. Use environment variable 'CESMDATAROOT' to specify another directory.\n"
     ]
    }
   ],
   "source": [
    "%matplotlib inline\n",
    "import os\n",
    "import numpy as np\n",
    "import xarray as xr\n",
    "from datetime import datetime\n",
    "\n",
    "from itertools import product\n",
    "\n",
    "import matplotlib.pyplot as plt\n",
    "\n",
    "import pop_tools\n",
    "import util"
   ]
  },
  {
   "cell_type": "markdown",
   "metadata": {
    "papermill": {
     "duration": 0.004036,
     "end_time": "2020-06-15T19:36:06.596053",
     "exception": false,
     "start_time": "2020-06-15T19:36:06.592017",
     "status": "completed"
    },
    "tags": []
   },
   "source": [
    "## Generate POP grid files"
   ]
  },
  {
   "cell_type": "code",
   "execution_count": 2,
   "metadata": {
    "execution": {
     "iopub.execute_input": "2020-06-15T19:36:06.608716Z",
     "iopub.status.busy": "2020-06-15T19:36:06.608345Z",
     "iopub.status.idle": "2020-06-15T19:36:06.610714Z",
     "shell.execute_reply": "2020-06-15T19:36:06.610978Z"
    },
    "papermill": {
     "duration": 0.010609,
     "end_time": "2020-06-15T19:36:06.611066",
     "exception": false,
     "start_time": "2020-06-15T19:36:06.600457",
     "status": "completed"
    },
    "tags": []
   },
   "outputs": [],
   "source": [
    "for grid_name in util.POP_grids:\n",
    "    scrip_grid_file = util.file_name_grid(grid_name)\n",
    "\n",
    "    if not os.path.exists(scrip_grid_file):            \n",
    "        print(f'generating {scrip_grid_file}')\n",
    "        \n",
    "        grid = pop_tools.get_grid(grid_name)\n",
    "        del grid.attrs['region_mask_regions']\n",
    "        grid.to_netcdf(scrip_grid_file)"
   ]
  },
  {
   "cell_type": "markdown",
   "metadata": {
    "papermill": {
     "duration": 0.003523,
     "end_time": "2020-06-15T19:36:06.618122",
     "exception": false,
     "start_time": "2020-06-15T19:36:06.614599",
     "status": "completed"
    },
    "tags": []
   },
   "source": [
    "\n",
    "\n",
    "Generate remapping files"
   ]
  },
  {
   "cell_type": "code",
   "execution_count": 3,
   "metadata": {
    "execution": {
     "iopub.execute_input": "2020-06-15T19:36:06.629301Z",
     "iopub.status.busy": "2020-06-15T19:36:06.628946Z",
     "iopub.status.idle": "2020-06-15T19:36:06.631134Z",
     "shell.execute_reply": "2020-06-15T19:36:06.631516Z"
    },
    "papermill": {
     "duration": 0.009336,
     "end_time": "2020-06-15T19:36:06.631600",
     "exception": false,
     "start_time": "2020-06-15T19:36:06.622264",
     "status": "completed"
    },
    "tags": []
   },
   "outputs": [],
   "source": [
    "#%%bash\n",
    "# qsub not available from Casper\n",
    "#qsub < esmf_gen_weights_etopo1_to_POP.pbs"
   ]
  },
  {
   "cell_type": "code",
   "execution_count": 4,
   "metadata": {
    "execution": {
     "iopub.execute_input": "2020-06-15T19:36:06.641475Z",
     "iopub.status.busy": "2020-06-15T19:36:06.641119Z",
     "iopub.status.idle": "2020-06-15T19:36:06.643632Z",
     "shell.execute_reply": "2020-06-15T19:36:06.643906Z"
    },
    "papermill": {
     "duration": 0.008553,
     "end_time": "2020-06-15T19:36:06.643997",
     "exception": false,
     "start_time": "2020-06-15T19:36:06.635444",
     "status": "completed"
    },
    "tags": []
   },
   "outputs": [],
   "source": [
    "#%%bash\n",
    "# qsub not available from Casper\n",
    "#qsub < esmf_gen_weights_POP_to_POP.pbs"
   ]
  }
 ],
 "metadata": {
  "kernelspec": {
   "display_name": "Python [conda env:miniconda3-forcing-Fe-sedflux]",
   "language": "python",
   "name": "conda-env-miniconda3-forcing-Fe-sedflux-py"
  },
  "language_info": {
   "codemirror_mode": {
    "name": "ipython",
    "version": 3
   },
   "file_extension": ".py",
   "mimetype": "text/x-python",
   "name": "python",
   "nbconvert_exporter": "python",
   "pygments_lexer": "ipython3",
   "version": "3.7.6"
  },
  "papermill": {
   "duration": 2.621413,
   "end_time": "2020-06-15T19:36:06.751989",
   "environment_variables": {},
   "exception": null,
   "input_path": "_ensure_grid_files.ipynb",
   "output_path": "_ensure_grid_files.ipynb",
   "parameters": {},
   "start_time": "2020-06-15T19:36:04.130576",
   "version": "2.1.0"
  }
 },
 "nbformat": 4,
 "nbformat_minor": 4
}