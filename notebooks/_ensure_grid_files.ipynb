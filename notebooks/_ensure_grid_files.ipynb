{
 "cells": [
  {
   "cell_type": "code",
   "execution_count": 1,
   "metadata": {
    "execution": {
     "iopub.execute_input": "2020-06-18T18:34:18.822762Z",
     "iopub.status.busy": "2020-06-18T18:34:18.822125Z",
     "iopub.status.idle": "2020-06-18T18:34:24.122163Z",
     "shell.execute_reply": "2020-06-18T18:34:24.122601Z"
    },
    "papermill": {
     "duration": 5.336249,
     "end_time": "2020-06-18T18:34:24.122773",
     "exception": false,
     "start_time": "2020-06-18T18:34:18.786524",
     "status": "completed"
    },
    "tags": []
   },
   "outputs": [
    {
     "name": "stderr",
     "output_type": "stream",
     "text": [
      "Cannot write to data cache '/glade/p/cesmdata/cseg'. Will not be able to download remote data files. Use environment variable 'CESMDATAROOT' to specify another directory.\n"
     ]
    }
   ],
   "source": [
    "%matplotlib inline\n",
    "import os\n",
    "import numpy as np\n",
    "import xarray as xr\n",
    "from datetime import datetime\n",
    "\n",
    "from itertools import product\n",
    "\n",
    "import matplotlib.pyplot as plt\n",
    "\n",
    "import pop_tools\n",
    "import util"
   ]
  },
  {
   "cell_type": "markdown",
   "metadata": {
    "papermill": {
     "duration": 0.02181,
     "end_time": "2020-06-18T18:34:24.148738",
     "exception": false,
     "start_time": "2020-06-18T18:34:24.126928",
     "status": "completed"
    },
    "tags": []
   },
   "source": [
    "## Generate POP grid files"
   ]
  },
  {
   "cell_type": "code",
   "execution_count": 2,
   "metadata": {
    "execution": {
     "iopub.execute_input": "2020-06-18T18:34:24.159078Z",
     "iopub.status.busy": "2020-06-18T18:34:24.158676Z",
     "iopub.status.idle": "2020-06-18T18:34:24.163398Z",
     "shell.execute_reply": "2020-06-18T18:34:24.163812Z"
    },
    "papermill": {
     "duration": 0.011917,
     "end_time": "2020-06-18T18:34:24.163912",
     "exception": false,
     "start_time": "2020-06-18T18:34:24.151995",
     "status": "completed"
    },
    "tags": []
   },
   "outputs": [],
   "source": [
    "for grid_name in util.POP_grids:\n",
    "    scrip_grid_file = util.file_name_grid(grid_name)\n",
    "\n",
    "    if not os.path.exists(scrip_grid_file):            \n",
    "        print(f'generating {scrip_grid_file}')\n",
    "        \n",
    "        grid = pop_tools.get_grid(grid_name)\n",
    "        del grid.attrs['region_mask_regions']\n",
    "        grid.to_netcdf(scrip_grid_file)"
   ]
  },
  {
   "cell_type": "markdown",
   "metadata": {
    "papermill": {
     "duration": 0.003054,
     "end_time": "2020-06-18T18:34:24.170089",
     "exception": false,
     "start_time": "2020-06-18T18:34:24.167035",
     "status": "completed"
    },
    "tags": []
   },
   "source": [
    "\n",
    "\n",
    "Generate remapping files"
   ]
  },
  {
   "cell_type": "code",
   "execution_count": 3,
   "metadata": {
    "execution": {
     "iopub.execute_input": "2020-06-18T18:34:24.183422Z",
     "iopub.status.busy": "2020-06-18T18:34:24.183053Z",
     "iopub.status.idle": "2020-06-18T18:34:24.192883Z",
     "shell.execute_reply": "2020-06-18T18:34:24.193158Z"
    },
    "papermill": {
     "duration": 0.019098,
     "end_time": "2020-06-18T18:34:24.193258",
     "exception": false,
     "start_time": "2020-06-18T18:34:24.174160",
     "status": "completed"
    },
    "tags": []
   },
   "outputs": [],
   "source": [
    "#%%bash\n",
    "# qsub not available from Casper\n",
    "#qsub < esmf_gen_weights_etopo1_to_POP.pbs"
   ]
  },
  {
   "cell_type": "code",
   "execution_count": 4,
   "metadata": {
    "execution": {
     "iopub.execute_input": "2020-06-18T18:34:24.203485Z",
     "iopub.status.busy": "2020-06-18T18:34:24.203105Z",
     "iopub.status.idle": "2020-06-18T18:34:24.205487Z",
     "shell.execute_reply": "2020-06-18T18:34:24.205768Z"
    },
    "papermill": {
     "duration": 0.008626,
     "end_time": "2020-06-18T18:34:24.205864",
     "exception": false,
     "start_time": "2020-06-18T18:34:24.197238",
     "status": "completed"
    },
    "tags": []
   },
   "outputs": [],
   "source": [
    "#%%bash\n",
    "# qsub not available from Casper\n",
    "#qsub < esmf_gen_weights_POP_to_POP.pbs"
   ]
  }
 ],
 "metadata": {
  "kernelspec": {
   "display_name": "Python [conda env:miniconda3-forcing-Fe-sedflux]",
   "language": "python",
   "name": "conda-env-miniconda3-forcing-Fe-sedflux-py"
  },
  "language_info": {
   "codemirror_mode": {
    "name": "ipython",
    "version": 3
   },
   "file_extension": ".py",
   "mimetype": "text/x-python",
   "name": "python",
   "nbconvert_exporter": "python",
   "pygments_lexer": "ipython3",
   "version": "3.7.6"
  },
  "papermill": {
   "duration": 6.39713,
   "end_time": "2020-06-18T18:34:24.318905",
   "environment_variables": {},
   "exception": null,
   "input_path": "_ensure_grid_files.ipynb",
   "output_path": "_ensure_grid_files.ipynb",
   "parameters": {},
   "start_time": "2020-06-18T18:34:17.921775",
   "version": "2.1.0"
  }
 },
 "nbformat": 4,
 "nbformat_minor": 4
}