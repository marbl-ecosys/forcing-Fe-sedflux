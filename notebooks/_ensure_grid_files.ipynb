{
 "cells": [
  {
   "cell_type": "code",
   "execution_count": 7,
   "metadata": {},
   "outputs": [],
   "source": [
    "%matplotlib inline\n",
    "import os\n",
    "import numpy as np\n",
    "import xarray as xr\n",
    "from datetime import datetime\n",
    "\n",
    "from itertools import product\n",
    "\n",
    "import matplotlib.pyplot as plt\n",
    "\n",
    "import pop_tools\n",
    "import util"
   ]
  },
  {
   "cell_type": "markdown",
   "metadata": {},
   "source": [
    "Generate grid file for ETOPO1 dataset."
   ]
  },
  {
   "cell_type": "code",
   "execution_count": 8,
   "metadata": {},
   "outputs": [
    {
     "name": "stdout",
     "output_type": "stream",
     "text": [
      "CPU times: user 49 µs, sys: 40 µs, total: 89 µs\n",
      "Wall time: 95.1 µs\n"
     ]
    }
   ],
   "source": [
    "%%time\n",
    "scrip_grid_file = util.file_name_grid('etopo1')\n",
    "\n",
    "if not os.path.exists(scrip_grid_file): \n",
    "    \n",
    "    # check that this conforms to the grid of the original dataset\n",
    "    file_src_data = util.datasets['etopo1']['urlpath']\n",
    "    ds = xr.open_dataset(file_src_data)\n",
    "    grid_imask = xr.where(ds.z < 0, 1., 0.).values.astype(np.int32)\n",
    "    plt.pcolormesh(grid_imask[::10, ::10])\n",
    "    plt.colorbar()\n",
    "    \n",
    "    # get/write scrip grid\n",
    "    dso = util.latlon_to_scrip(\n",
    "        nx=21600, \n",
    "        ny=10800, \n",
    "        lon0=-180., \n",
    "        file_out=scrip_grid_file\n",
    "    )\n",
    "\n",
    "    # extract grid coordinates to make check below\n",
    "    dims_grid = tuple(dso.grid_dims.values[::-1])\n",
    "    ny, nx = dims_grid\n",
    "    lat = dso.grid_center_lat.values.reshape(dims_grid)[:, 0]\n",
    "    lon = dso.grid_center_lon.values.reshape(dims_grid)[0, :]\n",
    "\n",
    "    np.testing.assert_allclose(lat, ds.y.values)\n",
    "    np.testing.assert_allclose(lon, ds.x.values)\n",
    "\n",
    "    dso.info()"
   ]
  },
  {
   "cell_type": "markdown",
   "metadata": {},
   "source": [
    "## Generate POP grid files"
   ]
  },
  {
   "cell_type": "code",
   "execution_count": 9,
   "metadata": {},
   "outputs": [],
   "source": [
    "for grid_name in util.POP_grids:\n",
    "    scrip_grid_file = util.file_name_grid(grid_name)\n",
    "\n",
    "    if not os.path.exists(scrip_grid_file):            \n",
    "        print(f'generating {scrip_grid_file}')\n",
    "        \n",
    "        grid = pop_tools.get_grid(grid_name)\n",
    "        del grid.attrs['region_mask_regions']\n",
    "        grid.to_netcdf(scrip_grid_file)"
   ]
  },
  {
   "cell_type": "markdown",
   "metadata": {},
   "source": [
    "\n",
    "\n",
    "Generate remapping files"
   ]
  },
  {
   "cell_type": "code",
   "execution_count": 10,
   "metadata": {},
   "outputs": [],
   "source": [
    "#%%bash\n",
    "# qsub not available from Casper\n",
    "#qsub < esmf_gen_weights_etopo1_to_POP.pbs"
   ]
  },
  {
   "cell_type": "code",
   "execution_count": 11,
   "metadata": {},
   "outputs": [],
   "source": [
    "#%%bash\n",
    "# qsub not available from Casper\n",
    "#qsub < esmf_gen_weights_POP_to_POP.pbs"
   ]
  }
 ],
 "metadata": {
  "kernelspec": {
   "display_name": "Python [conda env:miniconda3-forcing-Fe-sedflux]",
   "language": "python",
   "name": "conda-env-miniconda3-forcing-Fe-sedflux-py"
  },
  "language_info": {
   "codemirror_mode": {
    "name": "ipython",
    "version": 3
   },
   "file_extension": ".py",
   "mimetype": "text/x-python",
   "name": "python",
   "nbconvert_exporter": "python",
   "pygments_lexer": "ipython3",
   "version": "3.7.6"
  }
 },
 "nbformat": 4,
 "nbformat_minor": 4
}
