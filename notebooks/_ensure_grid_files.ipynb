{
 "cells": [
  {
   "cell_type": "code",
   "execution_count": 1,
   "metadata": {
    "execution": {
     "iopub.execute_input": "2020-04-17T20:53:09.681427Z",
     "iopub.status.busy": "2020-04-17T20:53:09.673640Z",
     "iopub.status.idle": "2020-04-17T20:53:28.936409Z",
     "shell.execute_reply": "2020-04-17T20:53:28.936784Z"
    },
    "papermill": {
     "duration": 19.276046,
     "end_time": "2020-04-17T20:53:28.936935",
     "exception": false,
     "start_time": "2020-04-17T20:53:09.660889",
     "status": "completed"
    },
    "tags": []
   },
   "outputs": [
    {
     "name": "stderr",
     "output_type": "stream",
     "text": [
      "Cannot write to data cache '/glade/p/cesmdata/cseg'. Will not be able to download remote data files. Use environment variable 'CESMDATAROOT' to specify another directory.\n"
     ]
    }
   ],
   "source": [
    "%matplotlib inline\n",
    "import os\n",
    "import numpy as np\n",
    "import xarray as xr\n",
    "from datetime import datetime\n",
    "\n",
    "from itertools import product\n",
    "\n",
    "import matplotlib.pyplot as plt\n",
    "\n",
    "import pop_tools\n",
    "import util"
   ]
  },
  {
   "cell_type": "markdown",
   "metadata": {
    "papermill": {
     "duration": 0.004655,
     "end_time": "2020-04-17T20:53:28.960263",
     "exception": false,
     "start_time": "2020-04-17T20:53:28.955608",
     "status": "completed"
    },
    "tags": []
   },
   "source": [
    "Generate grid file for ETOPO1 dataset."
   ]
  },
  {
   "cell_type": "code",
   "execution_count": 2,
   "metadata": {
    "execution": {
     "iopub.execute_input": "2020-04-17T20:53:28.982734Z",
     "iopub.status.busy": "2020-04-17T20:53:28.981949Z",
     "iopub.status.idle": "2020-04-17T20:53:28.988809Z",
     "shell.execute_reply": "2020-04-17T20:53:28.989228Z"
    },
    "papermill": {
     "duration": 0.023121,
     "end_time": "2020-04-17T20:53:28.989333",
     "exception": false,
     "start_time": "2020-04-17T20:53:28.966212",
     "status": "completed"
    },
    "tags": []
   },
   "outputs": [
    {
     "name": "stdout",
     "output_type": "stream",
     "text": [
      "CPU times: user 98 µs, sys: 0 ns, total: 98 µs\n",
      "Wall time: 1.16 ms\n"
     ]
    }
   ],
   "source": [
    "%%time\n",
    "scrip_grid_file = util.file_name_grid('etopo1')\n",
    "\n",
    "if not os.path.exists(scrip_grid_file): \n",
    "    \n",
    "    # check that this conforms to the grid of the original dataset\n",
    "    file_src_data = util.datasets['etopo1']['urlpath']\n",
    "    ds = xr.open_dataset(file_src_data)\n",
    "    grid_imask = xr.where(ds.z < 0, 1., 0.).values.astype(np.int32)\n",
    "    plt.pcolormesh(grid_imask[::10, ::10])\n",
    "    plt.colorbar()\n",
    "    \n",
    "    # get/write scrip grid\n",
    "    dso = util.latlon_to_scrip(\n",
    "        nx=21600, \n",
    "        ny=10800, \n",
    "        lon0=-180., \n",
    "        file_out=scrip_grid_file\n",
    "    )\n",
    "\n",
    "    # extract grid coordinates to make check below\n",
    "    dims_grid = tuple(dso.grid_dims.values[::-1])\n",
    "    ny, nx = dims_grid\n",
    "    lat = dso.grid_center_lat.values.reshape(dims_grid)[:, 0]\n",
    "    lon = dso.grid_center_lon.values.reshape(dims_grid)[0, :]\n",
    "\n",
    "    np.testing.assert_allclose(lat, ds.y.values)\n",
    "    np.testing.assert_allclose(lon, ds.x.values)\n",
    "\n",
    "    dso.info()"
   ]
  },
  {
   "cell_type": "markdown",
   "metadata": {
    "papermill": {
     "duration": 0.011027,
     "end_time": "2020-04-17T20:53:29.026435",
     "exception": false,
     "start_time": "2020-04-17T20:53:29.015408",
     "status": "completed"
    },
    "tags": []
   },
   "source": [
    "## Generate POP grid files"
   ]
  },
  {
   "cell_type": "code",
   "execution_count": 3,
   "metadata": {
    "execution": {
     "iopub.execute_input": "2020-04-17T20:53:29.118695Z",
     "iopub.status.busy": "2020-04-17T20:53:29.117955Z",
     "iopub.status.idle": "2020-04-17T20:53:29.125000Z",
     "shell.execute_reply": "2020-04-17T20:53:29.124672Z"
    },
    "papermill": {
     "duration": 0.041938,
     "end_time": "2020-04-17T20:53:29.125074",
     "exception": false,
     "start_time": "2020-04-17T20:53:29.083136",
     "status": "completed"
    },
    "tags": []
   },
   "outputs": [],
   "source": [
    "for grid_name in util.POP_grids:\n",
    "    scrip_grid_file = util.file_name_grid(grid_name)\n",
    "\n",
    "    if not os.path.exists(scrip_grid_file):            \n",
    "        print(f'generating {scrip_grid_file}')\n",
    "        \n",
    "        grid = pop_tools.get_grid(grid_name)\n",
    "        del grid.attrs['region_mask_regions']\n",
    "        grid.to_netcdf(scrip_grid_file)"
   ]
  },
  {
   "cell_type": "markdown",
   "metadata": {
    "papermill": {
     "duration": 0.005396,
     "end_time": "2020-04-17T20:53:29.139537",
     "exception": false,
     "start_time": "2020-04-17T20:53:29.134141",
     "status": "completed"
    },
    "tags": []
   },
   "source": [
    "\n",
    "\n",
    "Generate remapping files"
   ]
  },
  {
   "cell_type": "code",
   "execution_count": 4,
   "metadata": {
    "execution": {
     "iopub.execute_input": "2020-04-17T20:53:29.152546Z",
     "iopub.status.busy": "2020-04-17T20:53:29.152158Z",
     "iopub.status.idle": "2020-04-17T20:53:29.154992Z",
     "shell.execute_reply": "2020-04-17T20:53:29.154488Z"
    },
    "papermill": {
     "duration": 0.009427,
     "end_time": "2020-04-17T20:53:29.155065",
     "exception": false,
     "start_time": "2020-04-17T20:53:29.145638",
     "status": "completed"
    },
    "tags": []
   },
   "outputs": [],
   "source": [
    "#%%bash\n",
    "# qsub not available from Casper\n",
    "#qsub < esmf_gen_weights_etopo1_to_POP.pbs"
   ]
  },
  {
   "cell_type": "code",
   "execution_count": 5,
   "metadata": {
    "execution": {
     "iopub.execute_input": "2020-04-17T20:53:29.166185Z",
     "iopub.status.busy": "2020-04-17T20:53:29.165821Z",
     "iopub.status.idle": "2020-04-17T20:53:29.168192Z",
     "shell.execute_reply": "2020-04-17T20:53:29.168500Z"
    },
    "papermill": {
     "duration": 0.009166,
     "end_time": "2020-04-17T20:53:29.168587",
     "exception": false,
     "start_time": "2020-04-17T20:53:29.159421",
     "status": "completed"
    },
    "tags": []
   },
   "outputs": [],
   "source": [
    "#%%bash\n",
    "# qsub not available from Casper\n",
    "#qsub < esmf_gen_weights_POP_to_POP.pbs"
   ]
  }
 ],
 "metadata": {
  "kernelspec": {
   "display_name": "Python [conda env:miniconda3-forcing-Fe-sedflux]",
   "language": "python",
   "name": "conda-env-miniconda3-forcing-Fe-sedflux-py"
  },
  "language_info": {
   "codemirror_mode": {
    "name": "ipython",
    "version": 3
   },
   "file_extension": ".py",
   "mimetype": "text/x-python",
   "name": "python",
   "nbconvert_exporter": "python",
   "pygments_lexer": "ipython3",
   "version": "3.7.6"
  },
  "papermill": {
   "duration": 20.357314,
   "end_time": "2020-04-17T20:53:29.298722",
   "environment_variables": {},
   "exception": null,
   "input_path": "_ensure_grid_files.ipynb",
   "output_path": "_ensure_grid_files.ipynb",
   "parameters": {},
   "start_time": "2020-04-17T20:53:08.941408",
   "version": "2.1.0"
  }
 },
 "nbformat": 4,
 "nbformat_minor": 4
}