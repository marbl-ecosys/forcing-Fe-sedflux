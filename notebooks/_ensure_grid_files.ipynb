{
 "cells": [
  {
   "cell_type": "code",
   "execution_count": 1,
   "metadata": {
    "execution": {
     "iopub.execute_input": "2020-06-16T16:05:42.469971Z",
     "iopub.status.busy": "2020-06-16T16:05:42.469087Z",
     "iopub.status.idle": "2020-06-16T16:05:46.948542Z",
     "shell.execute_reply": "2020-06-16T16:05:46.948905Z"
    },
    "papermill": {
     "duration": 4.499037,
     "end_time": "2020-06-16T16:05:46.949058",
     "exception": false,
     "start_time": "2020-06-16T16:05:42.450021",
     "status": "completed"
    },
    "tags": []
   },
   "outputs": [
    {
     "name": "stderr",
     "output_type": "stream",
     "text": [
      "Cannot write to data cache '/glade/p/cesmdata/cseg'. Will not be able to download remote data files. Use environment variable 'CESMDATAROOT' to specify another directory.\n"
     ]
    }
   ],
   "source": [
    "%matplotlib inline\n",
    "import os\n",
    "import numpy as np\n",
    "import xarray as xr\n",
    "from datetime import datetime\n",
    "\n",
    "from itertools import product\n",
    "\n",
    "import matplotlib.pyplot as plt\n",
    "\n",
    "import pop_tools\n",
    "import util"
   ]
  },
  {
   "cell_type": "markdown",
   "metadata": {
    "papermill": {
     "duration": 0.005586,
     "end_time": "2020-06-16T16:05:46.963111",
     "exception": false,
     "start_time": "2020-06-16T16:05:46.957525",
     "status": "completed"
    },
    "tags": []
   },
   "source": [
    "## Generate POP grid files"
   ]
  },
  {
   "cell_type": "code",
   "execution_count": 2,
   "metadata": {
    "execution": {
     "iopub.execute_input": "2020-06-16T16:05:46.974169Z",
     "iopub.status.busy": "2020-06-16T16:05:46.973128Z",
     "iopub.status.idle": "2020-06-16T16:05:46.986303Z",
     "shell.execute_reply": "2020-06-16T16:05:46.986750Z"
    },
    "papermill": {
     "duration": 0.020609,
     "end_time": "2020-06-16T16:05:46.986861",
     "exception": false,
     "start_time": "2020-06-16T16:05:46.966252",
     "status": "completed"
    },
    "tags": []
   },
   "outputs": [],
   "source": [
    "for grid_name in util.POP_grids:\n",
    "    scrip_grid_file = util.file_name_grid(grid_name)\n",
    "\n",
    "    if not os.path.exists(scrip_grid_file):            \n",
    "        print(f'generating {scrip_grid_file}')\n",
    "        \n",
    "        grid = pop_tools.get_grid(grid_name)\n",
    "        del grid.attrs['region_mask_regions']\n",
    "        grid.to_netcdf(scrip_grid_file)"
   ]
  },
  {
   "cell_type": "markdown",
   "metadata": {
    "papermill": {
     "duration": 0.003115,
     "end_time": "2020-06-16T16:05:46.993200",
     "exception": false,
     "start_time": "2020-06-16T16:05:46.990085",
     "status": "completed"
    },
    "tags": []
   },
   "source": [
    "\n",
    "\n",
    "Generate remapping files"
   ]
  },
  {
   "cell_type": "code",
   "execution_count": 3,
   "metadata": {
    "execution": {
     "iopub.execute_input": "2020-06-16T16:05:47.003312Z",
     "iopub.status.busy": "2020-06-16T16:05:47.002942Z",
     "iopub.status.idle": "2020-06-16T16:05:47.005832Z",
     "shell.execute_reply": "2020-06-16T16:05:47.005386Z"
    },
    "papermill": {
     "duration": 0.009514,
     "end_time": "2020-06-16T16:05:47.005906",
     "exception": false,
     "start_time": "2020-06-16T16:05:46.996392",
     "status": "completed"
    },
    "tags": []
   },
   "outputs": [],
   "source": [
    "#%%bash\n",
    "# qsub not available from Casper\n",
    "#qsub < esmf_gen_weights_etopo1_to_POP.pbs"
   ]
  },
  {
   "cell_type": "code",
   "execution_count": 4,
   "metadata": {
    "execution": {
     "iopub.execute_input": "2020-06-16T16:05:47.014512Z",
     "iopub.status.busy": "2020-06-16T16:05:47.014098Z",
     "iopub.status.idle": "2020-06-16T16:05:47.016434Z",
     "shell.execute_reply": "2020-06-16T16:05:47.016838Z"
    },
    "papermill": {
     "duration": 0.008013,
     "end_time": "2020-06-16T16:05:47.016934",
     "exception": false,
     "start_time": "2020-06-16T16:05:47.008921",
     "status": "completed"
    },
    "tags": []
   },
   "outputs": [],
   "source": [
    "#%%bash\n",
    "# qsub not available from Casper\n",
    "#qsub < esmf_gen_weights_POP_to_POP.pbs"
   ]
  }
 ],
 "metadata": {
  "kernelspec": {
   "display_name": "Python [conda env:miniconda3-forcing-Fe-sedflux]",
   "language": "python",
   "name": "conda-env-miniconda3-forcing-Fe-sedflux-py"
  },
  "language_info": {
   "codemirror_mode": {
    "name": "ipython",
    "version": 3
   },
   "file_extension": ".py",
   "mimetype": "text/x-python",
   "name": "python",
   "nbconvert_exporter": "python",
   "pygments_lexer": "ipython3",
   "version": "3.7.6"
  },
  "papermill": {
   "duration": 5.551227,
   "end_time": "2020-06-16T16:05:47.124343",
   "environment_variables": {},
   "exception": null,
   "input_path": "_ensure_grid_files.ipynb",
   "output_path": "_ensure_grid_files.ipynb",
   "parameters": {},
   "start_time": "2020-06-16T16:05:41.573116",
   "version": "2.1.0"
  }
 },
 "nbformat": 4,
 "nbformat_minor": 4
}